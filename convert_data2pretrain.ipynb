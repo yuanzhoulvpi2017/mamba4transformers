{
 "cells": [
  {
   "cell_type": "code",
   "execution_count": 1,
   "metadata": {},
   "outputs": [],
   "source": [
    "from tqdm import tqdm\n",
    "import json\n",
    "from glob import glob\n",
    "from transformers import AutoTokenizer, PreTrainedTokenizer\n",
    "import os \n",
    "import shutil\n",
    "from pathlib import Path"
   ]
  },
  {
   "cell_type": "code",
   "execution_count": 2,
   "metadata": {},
   "outputs": [],
   "source": [
    "TARGET_DIR = \"data/data4pretrain\"\n"
   ]
  },
  {
   "cell_type": "code",
   "execution_count": 3,
   "metadata": {},
   "outputs": [],
   "source": [
    "internlm_tokenizer = AutoTokenizer.from_pretrained(\n",
    "    \"internlm_tokenizer\", trust_remote_code=True\n",
    ")"
   ]
  },
  {
   "cell_type": "code",
   "execution_count": 4,
   "metadata": {},
   "outputs": [
    {
     "data": {
      "text/plain": [
       "[1, 69596, 61275, 81533]"
      ]
     },
     "execution_count": 4,
     "metadata": {},
     "output_type": "execute_result"
    }
   ],
   "source": [
    "internlm_tokenizer.encode(\"你是谁啊啊啊啊\")"
   ]
  },
  {
   "cell_type": "code",
   "execution_count": 5,
   "metadata": {},
   "outputs": [],
   "source": [
    "with open(Path(TARGET_DIR).joinpath(\"aaa.json\"), mode='w', encoding='utf-8') as fout:\n",
    "    fout.write(json.dumps(\n",
    "        {'a':[1,2,3,4]}, ensure_ascii=False\n",
    "    ) + \"\\n\",)"
   ]
  },
  {
   "cell_type": "code",
   "execution_count": 6,
   "metadata": {},
   "outputs": [
    {
     "name": "stderr",
     "output_type": "stream",
     "text": [
      "gendata...2file: 600882it [29:02, 344.79it/s]\n"
     ]
    }
   ],
   "source": [
    "from typing import Any\n",
    "\n",
    "\n",
    "class BuildPreTrainDataset:\n",
    "    def __init__(\n",
    "        self,\n",
    "        target_dir: str,\n",
    "        source_dir: str,\n",
    "        file_size: int = 100000,\n",
    "        tokenizer: PreTrainedTokenizer = None,\n",
    "    ) -> None:\n",
    "        self.target_dir = Path(target_dir)\n",
    "        self.source_dir = Path(source_dir)\n",
    "        shutil.rmtree(TARGET_DIR, ignore_errors=True)\n",
    "        os.makedirs(TARGET_DIR)\n",
    "\n",
    "        self.source_file_list = glob(self.source_dir.__str__() + \"/*\")[:3]\n",
    "\n",
    "        self.index_file_name = self.target_dir.joinpath(\"index.json\")\n",
    "        self.file_size = file_size\n",
    "        self.tokenizer = tokenizer\n",
    "\n",
    "    def get_item(self):\n",
    "        for temp_source_file in self.source_file_list:\n",
    "            with open(temp_source_file, encoding=\"utf-8\", mode=\"r\") as fin:\n",
    "                temp_data = fin.readlines()\n",
    "                for i in temp_data:\n",
    "                    yield json.loads(i)\n",
    "\n",
    "    def __call__(self) -> None:\n",
    "        start_file_name_index = 0\n",
    "        total_token = 0\n",
    "        for item_index_, item in tqdm(\n",
    "            enumerate(self.get_item()), desc=f\"gendata...2file\"\n",
    "        ):\n",
    "            if item_index_ % self.file_size == 0 and item_index_ != 0:\n",
    "                start_file_name_index += 1\n",
    "            with open(\n",
    "                self.target_dir.joinpath(f\"file_{start_file_name_index}.json\"),\n",
    "                encoding=\"utf-8\",\n",
    "                mode=\"a\",\n",
    "            ) as fout:\n",
    "                text = item[\"text\"]\n",
    "                tokenids = self.tokenizer.encode(text)\n",
    "                total_token += len(tokenids)\n",
    "                fout.write(\n",
    "                    json.dumps({\"input_ids\": tokenids}, ensure_ascii=False) + \"\\n\"\n",
    "                )\n",
    "\n",
    "        self.save_total_info(item_index_ + 1, total_token - item_index_ - 1)\n",
    "\n",
    "    def save_total_info(self, total_item: int, total_token: int):\n",
    "        with open(self.index_file_name, mode=\"w\", encoding=\"utf-8\") as fout:\n",
    "            fout.write(\n",
    "                json.dumps(\n",
    "                    {\"total_item\": total_item, \"total_token\": total_token},\n",
    "                    ensure_ascii=False,\n",
    "                )\n",
    "            )\n",
    "\n",
    "\n",
    "buildpretrained = BuildPreTrainDataset(\n",
    "    target_dir=TARGET_DIR,\n",
    "    source_dir=\"data/pretrained_data\",\n",
    "    file_size=100000,\n",
    "    tokenizer=internlm_tokenizer,\n",
    ")\n",
    "\n",
    "buildpretrained()"
   ]
  },
  {
   "cell_type": "code",
   "execution_count": 7,
   "metadata": {},
   "outputs": [
    {
     "name": "stdout",
     "output_type": "stream",
     "text": [
      "1\n",
      "2\n",
      "3\n",
      "4\n",
      "5\n",
      "6\n"
     ]
    }
   ],
   "source": [
    "class MyClass:\n",
    "    def __init__(self) -> None:\n",
    "        pass\n",
    "    def get_item(self):\n",
    "        for il in [[1,2,3], [4,5,6]]:\n",
    "            for j in il:\n",
    "                yield j \n",
    "\n",
    "\n",
    "myclass = MyClass()\n",
    "for index, value in enumerate(myclass.get_item()):\n",
    "    print(value)"
   ]
  },
  {
   "cell_type": "code",
   "execution_count": null,
   "metadata": {},
   "outputs": [],
   "source": []
  },
  {
   "cell_type": "code",
   "execution_count": 8,
   "metadata": {},
   "outputs": [
    {
     "data": {
      "text/plain": [
       "0"
      ]
     },
     "execution_count": 8,
     "metadata": {},
     "output_type": "execute_result"
    }
   ],
   "source": [
    "100 % 10"
   ]
  },
  {
   "cell_type": "code",
   "execution_count": null,
   "metadata": {},
   "outputs": [],
   "source": []
  }
 ],
 "metadata": {
  "kernelspec": {
   "display_name": "hznet",
   "language": "python",
   "name": "python3"
  },
  "language_info": {
   "codemirror_mode": {
    "name": "ipython",
    "version": 3
   },
   "file_extension": ".py",
   "mimetype": "text/x-python",
   "name": "python",
   "nbconvert_exporter": "python",
   "pygments_lexer": "ipython3",
   "version": "3.11.5"
  }
 },
 "nbformat": 4,
 "nbformat_minor": 2
}
